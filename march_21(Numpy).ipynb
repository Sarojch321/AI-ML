{
 "cells": [
  {
   "cell_type": "raw",
   "id": "7115701a-4a06-4b37-8734-04ae17d25dd1",
   "metadata": {},
   "source": [
    "# Numpy\n",
    "# pandas\n",
    "# matplotlib\n",
    "# scikit learn"
   ]
  },
  {
   "cell_type": "code",
   "execution_count": 5,
   "id": "02cffd8c-fd58-4eca-a27c-d7691e958963",
   "metadata": {},
   "outputs": [],
   "source": [
    "#Numpy is\n",
    "#Collection\n",
    "#Homogeneous\n",
    "#Numerial Computing"
   ]
  },
  {
   "cell_type": "code",
   "execution_count": 7,
   "id": "b1a35885-15eb-48c8-a94a-373447aa05f3",
   "metadata": {},
   "outputs": [],
   "source": [
    "import numpy as np"
   ]
  },
  {
   "cell_type": "code",
   "execution_count": 9,
   "id": "9b89fdaf-b731-4155-ae37-83c74983ff97",
   "metadata": {},
   "outputs": [
    {
     "name": "stdout",
     "output_type": "stream",
     "text": [
      "[1 2 3 4 5]\n"
     ]
    }
   ],
   "source": [
    "# single dimension\n",
    "x = np.array([1,2,3,4,5])\n",
    "print(x)"
   ]
  },
  {
   "cell_type": "code",
   "execution_count": 15,
   "id": "4965e70e-d977-4c14-ada2-bf12a02a302d",
   "metadata": {},
   "outputs": [],
   "source": [
    "# Attribute\n",
    "# Shape\n",
    "# size\n",
    "# dimension\n",
    "# data type"
   ]
  },
  {
   "cell_type": "code",
   "execution_count": 19,
   "id": "680baf76-2fe9-4815-a691-4e25778faede",
   "metadata": {},
   "outputs": [
    {
     "name": "stdout",
     "output_type": "stream",
     "text": [
      "[[1 2]\n",
      " [3 4]]\n"
     ]
    }
   ],
   "source": [
    "# 2 dimension\n",
    "y = np.array([[1,2],[3,4]])\n",
    "print(y)"
   ]
  },
  {
   "cell_type": "code",
   "execution_count": 21,
   "id": "ef38de6e-9a89-4810-9771-0b1e4da3c171",
   "metadata": {},
   "outputs": [
    {
     "name": "stdout",
     "output_type": "stream",
     "text": [
      "(5,)\n",
      "(2, 2)\n"
     ]
    }
   ],
   "source": [
    "print(x.shape)\n",
    "print(y.shape)"
   ]
  },
  {
   "cell_type": "code",
   "execution_count": 23,
   "id": "f5cee502-a805-4a22-95d6-bf7c294fdb9d",
   "metadata": {},
   "outputs": [
    {
     "name": "stdout",
     "output_type": "stream",
     "text": [
      "5\n",
      "4\n"
     ]
    }
   ],
   "source": [
    "print(x.size)\n",
    "print(y.size)"
   ]
  },
  {
   "cell_type": "code",
   "execution_count": 25,
   "id": "b944ae1b-13c8-41ab-ad2c-f6ef3a982fb9",
   "metadata": {},
   "outputs": [
    {
     "name": "stdout",
     "output_type": "stream",
     "text": [
      "1\n",
      "2\n"
     ]
    }
   ],
   "source": [
    "print(x.ndim)\n",
    "print(y.ndim)"
   ]
  },
  {
   "cell_type": "code",
   "execution_count": 27,
   "id": "b7ddc61f-30a3-4836-b51c-a6dcc3c3f406",
   "metadata": {},
   "outputs": [
    {
     "name": "stdout",
     "output_type": "stream",
     "text": [
      "int32\n",
      "int32\n"
     ]
    }
   ],
   "source": [
    "print(x.dtype)\n",
    "print(y.dtype)"
   ]
  },
  {
   "cell_type": "markdown",
   "id": "894beaef-ed11-4f70-9db7-eceec02bd24e",
   "metadata": {},
   "source": [
    "- np.sum()\n",
    "- np.min()\n",
    "- np.max()\n",
    "- np.mean()\n",
    "- np.std()\n",
    "- np.median()\n",
    "- np.sort()\n",
    "- np.prod()"
   ]
  },
  {
   "cell_type": "code",
   "execution_count": 30,
   "id": "bf86bc7a-a309-4f67-8f3a-35106763326d",
   "metadata": {},
   "outputs": [],
   "source": [
    "x = np.array([5,4,7,9,11,2,12,1])"
   ]
  },
  {
   "cell_type": "code",
   "execution_count": 32,
   "id": "6862627e-dae1-4a77-bb8a-b2ee63da344f",
   "metadata": {},
   "outputs": [
    {
     "name": "stdout",
     "output_type": "stream",
     "text": [
      "51\n"
     ]
    }
   ],
   "source": [
    "print(np.sum(x))"
   ]
  },
  {
   "cell_type": "code",
   "execution_count": 34,
   "id": "93d6a63e-b50c-4f80-9341-d8aca657b797",
   "metadata": {},
   "outputs": [
    {
     "name": "stdout",
     "output_type": "stream",
     "text": [
      "12\n"
     ]
    }
   ],
   "source": [
    "print(np.max(x))"
   ]
  },
  {
   "cell_type": "code",
   "execution_count": 36,
   "id": "9db8d3e1-c544-4343-ae70-912564cba1a9",
   "metadata": {},
   "outputs": [
    {
     "name": "stdout",
     "output_type": "stream",
     "text": [
      "6.375\n"
     ]
    }
   ],
   "source": [
    "print(np.mean(x))"
   ]
  },
  {
   "cell_type": "code",
   "execution_count": 38,
   "id": "82d1a175-3eb2-4514-bef2-667b56488988",
   "metadata": {},
   "outputs": [
    {
     "name": "stdout",
     "output_type": "stream",
     "text": [
      "6.0\n"
     ]
    }
   ],
   "source": [
    "print(np.median(x))"
   ]
  },
  {
   "cell_type": "code",
   "execution_count": 40,
   "id": "5fd7540e-7c59-47a3-a4d1-9399553d0c00",
   "metadata": {},
   "outputs": [
    {
     "name": "stdout",
     "output_type": "stream",
     "text": [
      "1\n"
     ]
    }
   ],
   "source": [
    "print(np.min(x))"
   ]
  },
  {
   "cell_type": "code",
   "execution_count": 42,
   "id": "e7fc5f51-1fb7-495c-88e2-d42bf2d5d6af",
   "metadata": {},
   "outputs": [
    {
     "name": "stdout",
     "output_type": "stream",
     "text": [
      "3.8058343369095824\n"
     ]
    }
   ],
   "source": [
    "print(np.std(x))"
   ]
  },
  {
   "cell_type": "code",
   "execution_count": 44,
   "id": "ac1655c0-61ee-4c6b-b6b3-516c290a580e",
   "metadata": {},
   "outputs": [
    {
     "name": "stdout",
     "output_type": "stream",
     "text": [
      "[ 1  2  4  5  7  9 11 12]\n"
     ]
    }
   ],
   "source": [
    "print(np.sort(x))"
   ]
  },
  {
   "cell_type": "code",
   "execution_count": 50,
   "id": "589073a5-0f07-4206-a789-40f16aa65ed0",
   "metadata": {},
   "outputs": [
    {
     "name": "stdout",
     "output_type": "stream",
     "text": [
      "1.0175\n"
     ]
    }
   ],
   "source": [
    "print(np.percentile(x, 0.25))"
   ]
  },
  {
   "cell_type": "code",
   "execution_count": 52,
   "id": "cdcf5d4d-656a-4428-b186-80d2d8bc8e80",
   "metadata": {},
   "outputs": [
    {
     "name": "stdout",
     "output_type": "stream",
     "text": [
      "1.0525\n"
     ]
    }
   ],
   "source": [
    "print(np.percentile(x, 0.75))"
   ]
  },
  {
   "cell_type": "markdown",
   "id": "7b861e9a-4eed-4a31-91c2-a7780cc27fc9",
   "metadata": {},
   "source": [
    "### Array Aritjmatic\n",
    "- np.add     (  +)\n",
    "- np.multiply     ( *)\n",
    "- np.subtract  (-)\n",
    "- np.divide    (/)\n",
    "- np.floor_divide  (//)\n",
    "- np.mod      (%)\n",
    "- np.power   "
   ]
  },
  {
   "cell_type": "code",
   "execution_count": 55,
   "id": "a4952235-bead-4a67-aaca-ab80716dda98",
   "metadata": {},
   "outputs": [],
   "source": [
    "x = np.array([1,2,3,4,5])\n",
    "y = np.array([9,8,7,6,5])"
   ]
  },
  {
   "cell_type": "code",
   "execution_count": 57,
   "id": "4cd4524f-42b8-4279-96b6-85561e89642e",
   "metadata": {},
   "outputs": [
    {
     "name": "stdout",
     "output_type": "stream",
     "text": [
      "[10 10 10 10 10]\n"
     ]
    }
   ],
   "source": [
    "print(x+y)"
   ]
  },
  {
   "cell_type": "code",
   "execution_count": 62,
   "id": "dd9c05d9-2905-4d92-9d6c-8866c413de6c",
   "metadata": {},
   "outputs": [
    {
     "name": "stdout",
     "output_type": "stream",
     "text": [
      "[ 9 16 21 24 25]\n"
     ]
    }
   ],
   "source": [
    "print(np.multiply(x,y))"
   ]
  },
  {
   "cell_type": "code",
   "execution_count": 65,
   "id": "4aa4a71b-58d7-42fb-adb0-5641b83fd0bc",
   "metadata": {},
   "outputs": [
    {
     "name": "stdout",
     "output_type": "stream",
     "text": [
      "[ 9 16 21 24 25]\n"
     ]
    }
   ],
   "source": [
    "print(x*y)"
   ]
  },
  {
   "cell_type": "code",
   "execution_count": 69,
   "id": "4ff73878-d41e-4a06-a1d9-e3513f7b7ef8",
   "metadata": {},
   "outputs": [
    {
     "name": "stdout",
     "output_type": "stream",
     "text": [
      "[ 1  4  9 16 25]\n"
     ]
    }
   ],
   "source": [
    "print(np.power(x,2))"
   ]
  },
  {
   "cell_type": "code",
   "execution_count": 77,
   "id": "ba71c883-e812-4bc4-a1ec-04d18f5aa2a8",
   "metadata": {},
   "outputs": [
    {
     "name": "stdout",
     "output_type": "stream",
     "text": [
      "[3 4 5 6 7]\n"
     ]
    }
   ],
   "source": [
    "# Broadcasting operation\n",
    "print(x+2)"
   ]
  },
  {
   "cell_type": "code",
   "execution_count": 79,
   "id": "ffa2f8a3-6169-430b-84f3-e7bdddb6962a",
   "metadata": {},
   "outputs": [
    {
     "name": "stdout",
     "output_type": "stream",
     "text": [
      "4\n"
     ]
    }
   ],
   "source": [
    "# indexing\n",
    "x = np.array([1,2,3,4,5])\n",
    "print(x[3])"
   ]
  },
  {
   "cell_type": "code",
   "execution_count": 81,
   "id": "55f4ad59-ce93-44a2-8043-9c724caea579",
   "metadata": {},
   "outputs": [
    {
     "name": "stdout",
     "output_type": "stream",
     "text": [
      "[ 1 12  3  4  5]\n"
     ]
    }
   ],
   "source": [
    "x[1] = 12\n",
    "print(x)"
   ]
  },
  {
   "cell_type": "code",
   "execution_count": 87,
   "id": "11a98907-93cb-4858-9108-d394d5c8d48d",
   "metadata": {},
   "outputs": [
    {
     "name": "stdout",
     "output_type": "stream",
     "text": [
      "[[2 3 4]\n",
      " [5 6 7]]\n"
     ]
    }
   ],
   "source": [
    "# 2 dimension\n",
    "a = np.array([[2,3,4],[5,6,7]])\n",
    "print(a)"
   ]
  },
  {
   "cell_type": "code",
   "execution_count": 89,
   "id": "ddcea461-91a3-402d-82cb-164bb6a896c3",
   "metadata": {},
   "outputs": [
    {
     "name": "stdout",
     "output_type": "stream",
     "text": [
      "3\n"
     ]
    }
   ],
   "source": [
    "print(a[0][1])"
   ]
  },
  {
   "cell_type": "code",
   "execution_count": 91,
   "id": "24230c3d-86c4-48b5-ab97-23b5d305458e",
   "metadata": {},
   "outputs": [
    {
     "name": "stdout",
     "output_type": "stream",
     "text": [
      "6\n"
     ]
    }
   ],
   "source": [
    "print(a[1][1])"
   ]
  },
  {
   "cell_type": "code",
   "execution_count": 93,
   "id": "55e60e8c-c8a5-429b-8cc0-e2ca0189cf24",
   "metadata": {},
   "outputs": [
    {
     "name": "stdout",
     "output_type": "stream",
     "text": [
      "3\n"
     ]
    }
   ],
   "source": [
    "print(a[0,1])"
   ]
  },
  {
   "cell_type": "code",
   "execution_count": 95,
   "id": "731b87a7-da2d-40cd-aa25-b6bdc81867fe",
   "metadata": {},
   "outputs": [
    {
     "name": "stdout",
     "output_type": "stream",
     "text": [
      "6\n"
     ]
    }
   ],
   "source": [
    "print(a[1,1])"
   ]
  },
  {
   "cell_type": "code",
   "execution_count": 101,
   "id": "851ec327-27f0-40cf-8fe3-0902883be545",
   "metadata": {},
   "outputs": [
    {
     "name": "stdout",
     "output_type": "stream",
     "text": [
      "[3 2 7]\n"
     ]
    }
   ],
   "source": [
    "# Slicing\n",
    "x = np.array([5,3,2,7,9,8,1,0])\n",
    "\n",
    "# syntax : x[startindex : stopindex : stepindex]\n",
    "\n",
    "print(x[1:4])"
   ]
  },
  {
   "cell_type": "code",
   "execution_count": 103,
   "id": "5e52e5db-95a2-49fc-acbf-99851f62a414",
   "metadata": {},
   "outputs": [
    {
     "name": "stdout",
     "output_type": "stream",
     "text": [
      "[3 7 8 0]\n"
     ]
    }
   ],
   "source": [
    "print(x[1:8:2])"
   ]
  },
  {
   "cell_type": "code",
   "execution_count": 105,
   "id": "a9a0b648-8d6d-4f08-aaee-c9e6df169865",
   "metadata": {},
   "outputs": [
    {
     "name": "stdout",
     "output_type": "stream",
     "text": [
      "[5 3 2 7]\n"
     ]
    }
   ],
   "source": [
    "print(x[:4])"
   ]
  },
  {
   "cell_type": "code",
   "execution_count": 107,
   "id": "bf250ee6-638f-44f6-99df-acef81899428",
   "metadata": {},
   "outputs": [
    {
     "name": "stdout",
     "output_type": "stream",
     "text": [
      "[8 1 0]\n"
     ]
    }
   ],
   "source": [
    "print(x[5:])"
   ]
  },
  {
   "cell_type": "code",
   "execution_count": 109,
   "id": "0b9bb884-c0e0-49fd-bdf4-19e21c1101f0",
   "metadata": {},
   "outputs": [
    {
     "name": "stdout",
     "output_type": "stream",
     "text": [
      "0\n"
     ]
    }
   ],
   "source": [
    "print(x[-1])"
   ]
  },
  {
   "cell_type": "code",
   "execution_count": 111,
   "id": "f064e5ce-1f3f-49c4-88ab-402bde7a10d1",
   "metadata": {},
   "outputs": [
    {
     "name": "stdout",
     "output_type": "stream",
     "text": [
      "[8 1 0]\n"
     ]
    }
   ],
   "source": [
    "print(x[-3:])"
   ]
  },
  {
   "cell_type": "code",
   "execution_count": 113,
   "id": "f3cf1520-1da8-4560-9c68-1f69e5ec4328",
   "metadata": {},
   "outputs": [
    {
     "name": "stdout",
     "output_type": "stream",
     "text": [
      "[]\n"
     ]
    }
   ],
   "source": [
    "print(x[-1: -4])"
   ]
  },
  {
   "cell_type": "code",
   "execution_count": 115,
   "id": "5e9986c6-56d2-4ba0-b66c-98d01e2d7d6e",
   "metadata": {},
   "outputs": [
    {
     "name": "stdout",
     "output_type": "stream",
     "text": [
      "[0 1 8]\n"
     ]
    }
   ],
   "source": [
    "print(x[-1 : -4 : -1])"
   ]
  },
  {
   "cell_type": "code",
   "execution_count": 117,
   "id": "1838dad4-2c2c-46fc-ab82-2ad2372c0a78",
   "metadata": {},
   "outputs": [
    {
     "name": "stdout",
     "output_type": "stream",
     "text": [
      "[9 2]\n"
     ]
    }
   ],
   "source": [
    "print(x[-4 : -8 : -2])"
   ]
  },
  {
   "cell_type": "code",
   "execution_count": 119,
   "id": "2bf6a27a-153c-4b77-8d29-a9b1faf5af0e",
   "metadata": {},
   "outputs": [
    {
     "name": "stdout",
     "output_type": "stream",
     "text": [
      "[0 8 7 3]\n"
     ]
    }
   ],
   "source": [
    "print(x[-1 : -8 : -2])"
   ]
  },
  {
   "cell_type": "code",
   "execution_count": null,
   "id": "0ae87249-298c-4701-8622-3eefdb6315b2",
   "metadata": {},
   "outputs": [],
   "source": []
  }
 ],
 "metadata": {
  "kernelspec": {
   "display_name": "Python [conda env:base] *",
   "language": "python",
   "name": "conda-base-py"
  },
  "language_info": {
   "codemirror_mode": {
    "name": "ipython",
    "version": 3
   },
   "file_extension": ".py",
   "mimetype": "text/x-python",
   "name": "python",
   "nbconvert_exporter": "python",
   "pygments_lexer": "ipython3",
   "version": "3.12.7"
  }
 },
 "nbformat": 4,
 "nbformat_minor": 5
}
